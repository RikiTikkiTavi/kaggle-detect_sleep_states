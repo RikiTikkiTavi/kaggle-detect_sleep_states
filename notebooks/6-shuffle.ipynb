{
 "cells": [
  {
   "cell_type": "code",
   "execution_count": 1,
   "id": "initial_id",
   "metadata": {
    "collapsed": true,
    "ExecuteTime": {
     "end_time": "2023-12-05T17:20:58.250932868Z",
     "start_time": "2023-12-05T17:20:58.241192982Z"
    }
   },
   "outputs": [],
   "source": [
    "import yaml"
   ]
  },
  {
   "cell_type": "code",
   "execution_count": null,
   "outputs": [],
   "source": [],
   "metadata": {
    "collapsed": false
   },
   "id": "9d616c88e19b3aef"
  },
  {
   "cell_type": "code",
   "execution_count": 3,
   "outputs": [
    {
     "data": {
      "text/plain": "{'train_series_ids': ['038441c925bb',\n  '0402a003dae9',\n  '04f547b8017d',\n  '05e1944c3818',\n  '062cae666e2a',\n  '062dbd4c95e6',\n  '08db4255286f',\n  '0a96f4993bd7',\n  '0ce74d6d2106',\n  '0d0ad1e77851',\n  '0dee4fda51c3',\n  '0ec9fc461819',\n  '0ef7d94fde99',\n  '0f572d690310',\n  '0f9e60a8e56d',\n  '10469f6765bf',\n  '1087d7b0ff2e',\n  '10f8bc1f7b07',\n  '137771d19ca2',\n  '137b99e936ab',\n  '13b4d6a01d27',\n  '148471991ffb',\n  '154fe824ed87',\n  '16fe2798ed0f',\n  '1716cd4163b2',\n  '188d4b7cd28b',\n  '18a0ca03431d',\n  '18b61dd5aae8',\n  '1955d568d987',\n  '1b92be89db4c',\n  '1c7c0bad1263',\n  '1d4569cbac0f',\n  '1e6717d93c1d',\n  '1f96b9668bdf',\n  '207eded97727',\n  '25e2b3dd9c3b',\n  '2654a87be968',\n  '27f09a6a858f',\n  '292a75c0b94e',\n  '29d3469bd15d',\n  '2b0a1fa8eba8',\n  '2b8d87addea9',\n  '2e9ced2c7976',\n  '2f7504d0f426',\n  '2fc653ca75c7',\n  '31011ade7c0a',\n  '3318a0e3ed6f',\n  '3452b878e596',\n  '349c5562ee2c',\n  '361366da569e',\n  '3664fe9233f9',\n  '3a9a9dc2cbd9',\n  '3aceb17ef7bd',\n  '3be1545083b7',\n  '3be2f86c3e45',\n  '3c336d6ba566',\n  '3d53bfea61d6',\n  '3df0da2e5966',\n  '405df1b41f9f',\n  '40dce6018935',\n  '416354edd92a',\n  '449766346eb1',\n  '44a41bba1ee7',\n  '44d8c02b369e',\n  '4743bdde25df',\n  '483d6545417f',\n  '4a31811f3558',\n  '4ab54be1a403',\n  '4b45c36f8f5a',\n  '519ae2d858b0',\n  '51b23d177971',\n  '51c49c540b4e',\n  '51fdcc8d9fe7',\n  '559ffb7c166a',\n  '55a47ff9dc8a',\n  '5aad18e7ce64',\n  '5acc9d63b5fd',\n  '5c088d7e916c',\n  '5c55a5e717d6',\n  '5f40907ec171',\n  '5f76965e10cf',\n  '5ffd5e1e81ac',\n  '60d31b0bec3b',\n  '60e51cad2ffb',\n  '612aa8ba44e2',\n  '655f19eabf1e',\n  '67f5fc60e494',\n  '694faf956ebf',\n  '6bf95a3cf91c',\n  '6ca4f4fca6a2',\n  '6d6b9d22d48a',\n  '6ee4ade1f2bd',\n  '702bb5387b1e',\n  '703b5efa9bc1',\n  '72ba4a8afff4',\n  '72bbd1ac3edf',\n  '72d2234e84e4',\n  '73fb772e50fb',\n  '7476c0bd18d2',\n  '7504165f497d',\n  '752900afe3a6',\n  '77ca4db83644',\n  '7822ee8fe3ec',\n  '78569a801a38',\n  '785c9ca4eff7',\n  '7df249527c63',\n  '7fd4284b7ee8',\n  '804594bb1f06',\n  '808652a666c6',\n  '83fa182bec3a',\n  '844f54dcab89',\n  '854206f602d0',\n  '87a6cbb7c4ed',\n  '8877a6586606',\n  '8a22387617c3',\n  '8a306e0890c0',\n  '8b159a98f485',\n  '8b8b9e29171c',\n  '8e32047cbc1f',\n  '90eac42a9ec9',\n  '91127c2b0e60',\n  '91cb6c98201f',\n  '9277be28a1cf',\n  '927dd0c35dfd',\n  '939932f1822d',\n  '971207c6a525',\n  '99237ce045e4',\n  '9a340507e36a',\n  '9aed9ee12ae2',\n  '9c91c546e095',\n  '9ee455e4770d',\n  'a167532acca2',\n  'a261bc4b7470',\n  'a2b0a64ec9cf',\n  'a3e59c2ce3f6',\n  'a4e48102f402',\n  'a596ad0b82aa',\n  'a681f9b04b21',\n  'a81f4472c637',\n  'a9a2f7fac455',\n  'a9e5f5314bcb',\n  'aa81faa78747',\n  'ad425f3ee76d',\n  'aed3850f65f0',\n  'af91d9a50547',\n  'b364205aba43',\n  'b4b75225b224',\n  'b7188813d58a',\n  'b737f8c78ec5',\n  'b750c8c1556c',\n  'b84960841a75',\n  'ba8083a2c3b8',\n  'bf00506437aa',\n  'bfa54bd26187',\n  'bfe41e96d12f',\n  'c107b5789660',\n  'c289c8a823e0',\n  'c3072a759efb',\n  'c38707ef76df',\n  'c535634d7dcd',\n  'c5365a55ebb7',\n  'c5d08fc3e040',\n  'c6788e579967',\n  'c68260cc9e8f',\n  'c75b4b207bea',\n  'c7b1283bb7eb',\n  'c7b2155a4a47',\n  'c7d693f24684',\n  'c8053490cec2',\n  'ca730dbf521d',\n  'ca732a3c37f7',\n  'cca14d1966c1',\n  'ce85771a714c',\n  'ce9164297046',\n  'cf13ed7e457a',\n  'cfeb11428dd7',\n  'd043c0ca71cd',\n  'd0f613c700f7',\n  'd150801f3145',\n  'd25e479ecbb7',\n  'd2d6b9af0553',\n  'd2fef7e4defd',\n  'd3dddd3c0e00',\n  'd515236bdeec',\n  'd5be621fd9aa',\n  'd5e47b94477e',\n  'd93b0c7de16b',\n  'd9e887091a5c',\n  'dacc6d652e35',\n  'db5e0ee1c0ab',\n  'db75092f0530',\n  'dc80ca623d71',\n  'de6fedfb6139',\n  'df33ae359fb5',\n  'dfc3ccebfdc9',\n  'dff367373725',\n  'e0686434d029',\n  'e0d7b0dcf9f3',\n  'e11b9d69f856',\n  'e1f2a4f991cb',\n  'e1f5abb82285',\n  'e30cb792a2bc',\n  'e34b496b84ce',\n  'e4500e7e19e1',\n  'e586cbfa7762',\n  'e69aff66e0cb',\n  'e6ddbaaf0639',\n  'e867b5133665',\n  'e8d0a37c3eba',\n  'ea0770830757',\n  'ebd76e93ec7d',\n  'ece2561f07e9',\n  'efbfc4526d58',\n  'f2c2436cf7b7',\n  'f6d2cc003183',\n  'f88e18cb4100',\n  'f8a8da8bdd00',\n  'f981a0805fd0',\n  'fa149c3c4bde',\n  'fb223ed2278c',\n  'fcca183903b7'],\n 'valid_series_ids': ['03d92c9f6f8a',\n  '0cd1e3d0ed95',\n  '0cfc06c129cc',\n  '12d01911d509',\n  '1319a1935f48',\n  '1762ab70ec76',\n  '280e08693c6d',\n  '29c75c018220',\n  '2cd2340ca14d',\n  '2fbbee1a38e3',\n  '33ceeba8918a',\n  '35826366dfc7',\n  '3665c86afaf5',\n  '390b487231ce',\n  '4ac356361be9',\n  '4feda0596965',\n  '55b7f5c99930',\n  '599ca4ed791b',\n  '5e816f11f5c3',\n  '5f94bb3e1bed',\n  '601559e1777d',\n  '653622ac8363',\n  '6a4cd123bd69',\n  '76237b9406d5',\n  '8898e6db816d',\n  '89bd631d1769',\n  '89c7daa72eee',\n  '8becc76ea607',\n  '8f6f15b9f598',\n  '8fb18e36697d',\n  '99b829cbad2d',\n  '9b9cd7b7af8c',\n  '9ddd40f2cb36',\n  '9fbdeffbe2ba',\n  'a88088855de5',\n  'b1831c4979da',\n  'b7fc34995d0f',\n  'bb5612895813',\n  'bccf2f2819f8',\n  'bdfce9ce62b9',\n  'c908a0ad3e31',\n  'ccdee561ee5d',\n  'd8de352c2657',\n  'def21f50dd3c',\n  'e2a849d283c0',\n  'e2b60820c325',\n  'ebb6fae8ed43',\n  'ee4e0e3afd3d',\n  'eec197a4bdca',\n  'eef041dd50aa',\n  'f0482490923c',\n  'f564985ab692',\n  'f56824b503a0',\n  'f7eb179216c2',\n  'fbf33b1a2c10',\n  'fe90110788d2']}"
     },
     "execution_count": 3,
     "metadata": {},
     "output_type": "execute_result"
    }
   ],
   "source": [
    "with open(\"/home/egor/Projects/Pycharm/kaggle-detect_sleep_states/config/split/fold_0.yaml\", \"r\") as f:\n",
    "    fold0 = yaml.load(f, yaml.Loader)\n",
    "\n",
    "fold0"
   ],
   "metadata": {
    "collapsed": false,
    "ExecuteTime": {
     "end_time": "2023-12-05T17:22:58.494569664Z",
     "start_time": "2023-12-05T17:22:58.449828879Z"
    }
   },
   "id": "2040222c9ee521ca"
  },
  {
   "cell_type": "code",
   "execution_count": 6,
   "outputs": [
    {
     "data": {
      "text/plain": "{'038441c925bb',\n '03d92c9f6f8a',\n '0402a003dae9',\n '04f547b8017d',\n '05e1944c3818',\n '062cae666e2a',\n '062dbd4c95e6',\n '08db4255286f',\n '0a96f4993bd7',\n '0cd1e3d0ed95',\n '0ce74d6d2106',\n '0cfc06c129cc',\n '0d0ad1e77851',\n '0dee4fda51c3',\n '0ec9fc461819',\n '0ef7d94fde99',\n '0f572d690310',\n '0f9e60a8e56d',\n '10469f6765bf',\n '1087d7b0ff2e',\n '10f8bc1f7b07',\n '12d01911d509',\n '1319a1935f48',\n '137771d19ca2',\n '137b99e936ab',\n '13b4d6a01d27',\n '148471991ffb',\n '154fe824ed87',\n '16fe2798ed0f',\n '1716cd4163b2',\n '1762ab70ec76',\n '188d4b7cd28b',\n '18a0ca03431d',\n '18b61dd5aae8',\n '1955d568d987',\n '1b92be89db4c',\n '1c7c0bad1263',\n '1d4569cbac0f',\n '1e6717d93c1d',\n '1f96b9668bdf',\n '207eded97727',\n '25e2b3dd9c3b',\n '2654a87be968',\n '27f09a6a858f',\n '280e08693c6d',\n '292a75c0b94e',\n '29c75c018220',\n '29d3469bd15d',\n '2b0a1fa8eba8',\n '2b8d87addea9',\n '2cd2340ca14d',\n '2e9ced2c7976',\n '2f7504d0f426',\n '2fbbee1a38e3',\n '2fc653ca75c7',\n '31011ade7c0a',\n '3318a0e3ed6f',\n '33ceeba8918a',\n '3452b878e596',\n '349c5562ee2c',\n '35826366dfc7',\n '361366da569e',\n '3664fe9233f9',\n '3665c86afaf5',\n '390b487231ce',\n '3a9a9dc2cbd9',\n '3aceb17ef7bd',\n '3be1545083b7',\n '3be2f86c3e45',\n '3c336d6ba566',\n '3d53bfea61d6',\n '3df0da2e5966',\n '405df1b41f9f',\n '40dce6018935',\n '416354edd92a',\n '449766346eb1',\n '44a41bba1ee7',\n '44d8c02b369e',\n '4743bdde25df',\n '483d6545417f',\n '4a31811f3558',\n '4ab54be1a403',\n '4ac356361be9',\n '4b45c36f8f5a',\n '4feda0596965',\n '519ae2d858b0',\n '51b23d177971',\n '51c49c540b4e',\n '51fdcc8d9fe7',\n '559ffb7c166a',\n '55a47ff9dc8a',\n '55b7f5c99930',\n '599ca4ed791b',\n '5aad18e7ce64',\n '5acc9d63b5fd',\n '5c088d7e916c',\n '5c55a5e717d6',\n '5e816f11f5c3',\n '5f40907ec171',\n '5f76965e10cf',\n '5f94bb3e1bed',\n '5ffd5e1e81ac',\n '601559e1777d',\n '60d31b0bec3b',\n '60e51cad2ffb',\n '612aa8ba44e2',\n '653622ac8363',\n '655f19eabf1e',\n '67f5fc60e494',\n '694faf956ebf',\n '6a4cd123bd69',\n '6bf95a3cf91c',\n '6ca4f4fca6a2',\n '6d6b9d22d48a',\n '6ee4ade1f2bd',\n '702bb5387b1e',\n '703b5efa9bc1',\n '72ba4a8afff4',\n '72bbd1ac3edf',\n '72d2234e84e4',\n '73fb772e50fb',\n '7476c0bd18d2',\n '7504165f497d',\n '752900afe3a6',\n '76237b9406d5',\n '77ca4db83644',\n '7822ee8fe3ec',\n '78569a801a38',\n '785c9ca4eff7',\n '7df249527c63',\n '7fd4284b7ee8',\n '804594bb1f06',\n '808652a666c6',\n '83fa182bec3a',\n '844f54dcab89',\n '854206f602d0',\n '87a6cbb7c4ed',\n '8877a6586606',\n '8898e6db816d',\n '89bd631d1769',\n '89c7daa72eee',\n '8a22387617c3',\n '8a306e0890c0',\n '8b159a98f485',\n '8b8b9e29171c',\n '8becc76ea607',\n '8e32047cbc1f',\n '8f6f15b9f598',\n '8fb18e36697d',\n '90eac42a9ec9',\n '91127c2b0e60',\n '91cb6c98201f',\n '9277be28a1cf',\n '927dd0c35dfd',\n '939932f1822d',\n '971207c6a525',\n '99237ce045e4',\n '99b829cbad2d',\n '9a340507e36a',\n '9aed9ee12ae2',\n '9b9cd7b7af8c',\n '9c91c546e095',\n '9ddd40f2cb36',\n '9ee455e4770d',\n '9fbdeffbe2ba',\n 'a167532acca2',\n 'a261bc4b7470',\n 'a2b0a64ec9cf',\n 'a3e59c2ce3f6',\n 'a4e48102f402',\n 'a596ad0b82aa',\n 'a681f9b04b21',\n 'a81f4472c637',\n 'a88088855de5',\n 'a9a2f7fac455',\n 'a9e5f5314bcb',\n 'aa81faa78747',\n 'ad425f3ee76d',\n 'aed3850f65f0',\n 'af91d9a50547',\n 'b1831c4979da',\n 'b364205aba43',\n 'b4b75225b224',\n 'b7188813d58a',\n 'b737f8c78ec5',\n 'b750c8c1556c',\n 'b7fc34995d0f',\n 'b84960841a75',\n 'ba8083a2c3b8',\n 'bb5612895813',\n 'bccf2f2819f8',\n 'bdfce9ce62b9',\n 'bf00506437aa',\n 'bfa54bd26187',\n 'bfe41e96d12f',\n 'c107b5789660',\n 'c289c8a823e0',\n 'c3072a759efb',\n 'c38707ef76df',\n 'c535634d7dcd',\n 'c5365a55ebb7',\n 'c5d08fc3e040',\n 'c6788e579967',\n 'c68260cc9e8f',\n 'c75b4b207bea',\n 'c7b1283bb7eb',\n 'c7b2155a4a47',\n 'c7d693f24684',\n 'c8053490cec2',\n 'c908a0ad3e31',\n 'ca730dbf521d',\n 'ca732a3c37f7',\n 'cca14d1966c1',\n 'ccdee561ee5d',\n 'ce85771a714c',\n 'ce9164297046',\n 'cf13ed7e457a',\n 'cfeb11428dd7',\n 'd043c0ca71cd',\n 'd0f613c700f7',\n 'd150801f3145',\n 'd25e479ecbb7',\n 'd2d6b9af0553',\n 'd2fef7e4defd',\n 'd3dddd3c0e00',\n 'd515236bdeec',\n 'd5be621fd9aa',\n 'd5e47b94477e',\n 'd8de352c2657',\n 'd93b0c7de16b',\n 'd9e887091a5c',\n 'dacc6d652e35',\n 'db5e0ee1c0ab',\n 'db75092f0530',\n 'dc80ca623d71',\n 'de6fedfb6139',\n 'def21f50dd3c',\n 'df33ae359fb5',\n 'dfc3ccebfdc9',\n 'dff367373725',\n 'e0686434d029',\n 'e0d7b0dcf9f3',\n 'e11b9d69f856',\n 'e1f2a4f991cb',\n 'e1f5abb82285',\n 'e2a849d283c0',\n 'e2b60820c325',\n 'e30cb792a2bc',\n 'e34b496b84ce',\n 'e4500e7e19e1',\n 'e586cbfa7762',\n 'e69aff66e0cb',\n 'e6ddbaaf0639',\n 'e867b5133665',\n 'e8d0a37c3eba',\n 'ea0770830757',\n 'ebb6fae8ed43',\n 'ebd76e93ec7d',\n 'ece2561f07e9',\n 'ee4e0e3afd3d',\n 'eec197a4bdca',\n 'eef041dd50aa',\n 'efbfc4526d58',\n 'f0482490923c',\n 'f2c2436cf7b7',\n 'f564985ab692',\n 'f56824b503a0',\n 'f6d2cc003183',\n 'f7eb179216c2',\n 'f88e18cb4100',\n 'f8a8da8bdd00',\n 'f981a0805fd0',\n 'fa149c3c4bde',\n 'fb223ed2278c',\n 'fbf33b1a2c10',\n 'fcca183903b7',\n 'fe90110788d2'}"
     },
     "execution_count": 6,
     "metadata": {},
     "output_type": "execute_result"
    }
   ],
   "source": [
    "ids = fold0[\"train_series_ids\"]+fold0[\"valid_series_ids\"]\n",
    "ids = set(ids)\n",
    "ids"
   ],
   "metadata": {
    "collapsed": false,
    "ExecuteTime": {
     "end_time": "2023-12-05T17:24:45.435361247Z",
     "start_time": "2023-12-05T17:24:45.391858034Z"
    }
   },
   "id": "7af326492e9cfa32"
  },
  {
   "cell_type": "code",
   "execution_count": 16,
   "outputs": [
    {
     "name": "stdout",
     "output_type": "stream",
     "text": [
      "55\n",
      "222\n"
     ]
    }
   ],
   "source": [
    "import numpy as np\n",
    "\n",
    "val_ids = np.random.choice(np.array(list(ids)), size=len(ids)//5, replace=False).tolist()\n",
    "train_ids = ids - set(val_ids)\n",
    "\n",
    "print(len(val_ids))\n",
    "print(len(train_ids))"
   ],
   "metadata": {
    "collapsed": false,
    "ExecuteTime": {
     "end_time": "2023-12-05T17:34:42.681876446Z",
     "start_time": "2023-12-05T17:34:42.638457782Z"
    }
   },
   "id": "b48da74c81706b4f"
  },
  {
   "cell_type": "code",
   "execution_count": 17,
   "outputs": [],
   "source": [
    "fold1 = {\n",
    "    \"train_series_ids\": list(train_ids),\n",
    "    \"valid_series_ids\": list(val_ids)\n",
    "}\n",
    "with open(\"/home/egor/Projects/Pycharm/kaggle-detect_sleep_states/config/split/fold_1.yaml\", \"w\") as f:\n",
    "    yaml.dump(fold1, f)"
   ],
   "metadata": {
    "collapsed": false,
    "ExecuteTime": {
     "end_time": "2023-12-05T17:34:44.011302727Z",
     "start_time": "2023-12-05T17:34:43.947256045Z"
    }
   },
   "id": "f31ac21db0511af5"
  },
  {
   "cell_type": "code",
   "execution_count": 18,
   "outputs": [
    {
     "data": {
      "text/plain": "{'train_series_ids': ['9277be28a1cf',\n  'd8de352c2657',\n  '05e1944c3818',\n  '7822ee8fe3ec',\n  '694faf956ebf',\n  '3665c86afaf5',\n  'eef041dd50aa',\n  '785c9ca4eff7',\n  '416354edd92a',\n  '5ffd5e1e81ac',\n  'd9e887091a5c',\n  'e2b60820c325',\n  '18b61dd5aae8',\n  'bfa54bd26187',\n  '9fbdeffbe2ba',\n  'e8d0a37c3eba',\n  '1c7c0bad1263',\n  '2fc653ca75c7',\n  '60d31b0bec3b',\n  '844f54dcab89',\n  'ebb6fae8ed43',\n  '89c7daa72eee',\n  '0ce74d6d2106',\n  '29d3469bd15d',\n  '038441c925bb',\n  'c7b2155a4a47',\n  '7df249527c63',\n  'b7fc34995d0f',\n  '87a6cbb7c4ed',\n  '08db4255286f',\n  '10f8bc1f7b07',\n  '0dee4fda51c3',\n  '3df0da2e5966',\n  'b1831c4979da',\n  'b4b75225b224',\n  '5c55a5e717d6',\n  'd0f613c700f7',\n  '0cd1e3d0ed95',\n  '44a41bba1ee7',\n  '6bf95a3cf91c',\n  '854206f602d0',\n  '599ca4ed791b',\n  '4a31811f3558',\n  '188d4b7cd28b',\n  'c38707ef76df',\n  '9b9cd7b7af8c',\n  '062dbd4c95e6',\n  'ce85771a714c',\n  '3be1545083b7',\n  'e586cbfa7762',\n  '1716cd4163b2',\n  'd150801f3145',\n  '18a0ca03431d',\n  '91127c2b0e60',\n  '51fdcc8d9fe7',\n  '2e9ced2c7976',\n  'efbfc4526d58',\n  '449766346eb1',\n  'aed3850f65f0',\n  '8f6f15b9f598',\n  '04f547b8017d',\n  'c289c8a823e0',\n  'd3dddd3c0e00',\n  '655f19eabf1e',\n  '6ca4f4fca6a2',\n  'c107b5789660',\n  '1087d7b0ff2e',\n  'db75092f0530',\n  '752900afe3a6',\n  '91cb6c98201f',\n  'd25e479ecbb7',\n  'dfc3ccebfdc9',\n  'e6ddbaaf0639',\n  'fbf33b1a2c10',\n  '99b829cbad2d',\n  'fe90110788d2',\n  '72ba4a8afff4',\n  '83fa182bec3a',\n  '2fbbee1a38e3',\n  '0f9e60a8e56d',\n  'a9e5f5314bcb',\n  '1b92be89db4c',\n  'e0686434d029',\n  '99237ce045e4',\n  'fa149c3c4bde',\n  'f7eb179216c2',\n  'eec197a4bdca',\n  '5f76965e10cf',\n  '9c91c546e095',\n  'dff367373725',\n  'e1f5abb82285',\n  '8fb18e36697d',\n  'bf00506437aa',\n  'aa81faa78747',\n  'e0d7b0dcf9f3',\n  'f56824b503a0',\n  '0ef7d94fde99',\n  'c68260cc9e8f',\n  '1762ab70ec76',\n  '0f572d690310',\n  '03d92c9f6f8a',\n  '653622ac8363',\n  '361366da569e',\n  'b7188813d58a',\n  '601559e1777d',\n  '5e816f11f5c3',\n  '4ab54be1a403',\n  '6a4cd123bd69',\n  'a88088855de5',\n  'ee4e0e3afd3d',\n  'dc80ca623d71',\n  '0402a003dae9',\n  '1319a1935f48',\n  '78569a801a38',\n  'a81f4472c637',\n  'cfeb11428dd7',\n  '77ca4db83644',\n  '390b487231ce',\n  '483d6545417f',\n  '55b7f5c99930',\n  '971207c6a525',\n  'd2d6b9af0553',\n  'e11b9d69f856',\n  '612aa8ba44e2',\n  '33ceeba8918a',\n  '703b5efa9bc1',\n  '4b45c36f8f5a',\n  '927dd0c35dfd',\n  '154fe824ed87',\n  'e30cb792a2bc',\n  '3be2f86c3e45',\n  '5f40907ec171',\n  '0a96f4993bd7',\n  '3aceb17ef7bd',\n  '6d6b9d22d48a',\n  '2cd2340ca14d',\n  '8becc76ea607',\n  '5acc9d63b5fd',\n  '40dce6018935',\n  '2b8d87addea9',\n  '3664fe9233f9',\n  'ba8083a2c3b8',\n  '8898e6db816d',\n  '5c088d7e916c',\n  'ad425f3ee76d',\n  'b737f8c78ec5',\n  '1955d568d987',\n  'ea0770830757',\n  '9ddd40f2cb36',\n  'd5be621fd9aa',\n  'f564985ab692',\n  '2654a87be968',\n  '519ae2d858b0',\n  'a681f9b04b21',\n  'cca14d1966c1',\n  '939932f1822d',\n  '292a75c0b94e',\n  '12d01911d509',\n  'c8053490cec2',\n  '0d0ad1e77851',\n  '55a47ff9dc8a',\n  'e69aff66e0cb',\n  'fb223ed2278c',\n  '73fb772e50fb',\n  '8a22387617c3',\n  '51c49c540b4e',\n  'c5d08fc3e040',\n  'cf13ed7e457a',\n  '5aad18e7ce64',\n  '35826366dfc7',\n  '3318a0e3ed6f',\n  'f6d2cc003183',\n  '29c75c018220',\n  'a167532acca2',\n  'a261bc4b7470',\n  'bb5612895813',\n  '7476c0bd18d2',\n  '1d4569cbac0f',\n  'c6788e579967',\n  'e4500e7e19e1',\n  '207eded97727',\n  '90eac42a9ec9',\n  'bccf2f2819f8',\n  'c3072a759efb',\n  '8b8b9e29171c',\n  'ccdee561ee5d',\n  '9a340507e36a',\n  'd2fef7e4defd',\n  '72d2234e84e4',\n  'af91d9a50547',\n  '702bb5387b1e',\n  '8a306e0890c0',\n  'bfe41e96d12f',\n  'ece2561f07e9',\n  'f2c2436cf7b7',\n  '0cfc06c129cc',\n  'b84960841a75',\n  'ebd76e93ec7d',\n  '3d53bfea61d6',\n  'c535634d7dcd',\n  'a9a2f7fac455',\n  'ca730dbf521d',\n  '0ec9fc461819',\n  '9aed9ee12ae2',\n  '27f09a6a858f',\n  '7fd4284b7ee8',\n  'd5e47b94477e',\n  '559ffb7c166a',\n  'b750c8c1556c',\n  'db5e0ee1c0ab',\n  'f981a0805fd0',\n  '10469f6765bf',\n  'e34b496b84ce',\n  'e867b5133665',\n  'c75b4b207bea',\n  '4feda0596965',\n  'f0482490923c',\n  'ce9164297046',\n  '4743bdde25df',\n  '8877a6586606',\n  'd043c0ca71cd',\n  'f88e18cb4100'],\n 'valid_series_ids': ['062cae666e2a',\n  '148471991ffb',\n  '8b159a98f485',\n  '31011ade7c0a',\n  '25e2b3dd9c3b',\n  'c908a0ad3e31',\n  'de6fedfb6139',\n  '804594bb1f06',\n  '280e08693c6d',\n  '808652a666c6',\n  '5f94bb3e1bed',\n  '1f96b9668bdf',\n  'bdfce9ce62b9',\n  '72bbd1ac3edf',\n  '137b99e936ab',\n  '16fe2798ed0f',\n  '67f5fc60e494',\n  'c7d693f24684',\n  '6ee4ade1f2bd',\n  '1e6717d93c1d',\n  'df33ae359fb5',\n  'a2b0a64ec9cf',\n  '51b23d177971',\n  'e2a849d283c0',\n  'fcca183903b7',\n  'ca732a3c37f7',\n  '7504165f497d',\n  'f8a8da8bdd00',\n  '405df1b41f9f',\n  'def21f50dd3c',\n  'd515236bdeec',\n  '349c5562ee2c',\n  '76237b9406d5',\n  '60e51cad2ffb',\n  '3a9a9dc2cbd9',\n  '2f7504d0f426',\n  'a4e48102f402',\n  '2b0a1fa8eba8',\n  '13b4d6a01d27',\n  '44d8c02b369e',\n  '89bd631d1769',\n  '137771d19ca2',\n  'a3e59c2ce3f6',\n  'd93b0c7de16b',\n  'dacc6d652e35',\n  'c5365a55ebb7',\n  'a596ad0b82aa',\n  'b364205aba43',\n  '3452b878e596',\n  '8e32047cbc1f',\n  '9ee455e4770d',\n  '4ac356361be9',\n  'c7b1283bb7eb',\n  '3c336d6ba566',\n  'e1f2a4f991cb']}"
     },
     "execution_count": 18,
     "metadata": {},
     "output_type": "execute_result"
    }
   ],
   "source": [
    "fold1"
   ],
   "metadata": {
    "collapsed": false,
    "ExecuteTime": {
     "end_time": "2023-12-05T17:34:44.983326309Z",
     "start_time": "2023-12-05T17:34:44.955457274Z"
    }
   },
   "id": "a09439fce7126232"
  },
  {
   "cell_type": "code",
   "execution_count": null,
   "outputs": [],
   "source": [],
   "metadata": {
    "collapsed": false
   },
   "id": "3aeb7cc2a64d6f1e"
  }
 ],
 "metadata": {
  "kernelspec": {
   "display_name": "Python 3",
   "language": "python",
   "name": "python3"
  },
  "language_info": {
   "codemirror_mode": {
    "name": "ipython",
    "version": 2
   },
   "file_extension": ".py",
   "mimetype": "text/x-python",
   "name": "python",
   "nbconvert_exporter": "python",
   "pygments_lexer": "ipython2",
   "version": "2.7.6"
  }
 },
 "nbformat": 4,
 "nbformat_minor": 5
}
