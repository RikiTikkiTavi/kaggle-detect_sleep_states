{
 "cells": [
  {
   "cell_type": "code",
   "execution_count": 2,
   "id": "initial_id",
   "metadata": {
    "collapsed": true,
    "ExecuteTime": {
     "end_time": "2023-11-25T20:29:02.982430112Z",
     "start_time": "2023-11-25T20:29:02.967097246Z"
    }
   },
   "outputs": [],
   "source": [
    "import numpy as np\n",
    "import pandas as pd\n",
    "import polars as pl\n",
    "from pathlib import Path"
   ]
  },
  {
   "cell_type": "code",
   "execution_count": 6,
   "outputs": [],
   "source": [
    "PATH_DATA_RAW = Path(\"/beegfs/ws/0/s4610340-sleep_states/kaggle-detect_sleep_states/data/raw\")"
   ],
   "metadata": {
    "collapsed": false,
    "ExecuteTime": {
     "end_time": "2023-11-25T20:30:02.405433898Z",
     "start_time": "2023-11-25T20:30:02.357073699Z"
    }
   },
   "id": "886264ab061dc52a"
  },
  {
   "cell_type": "code",
   "execution_count": 9,
   "outputs": [
    {
     "data": {
      "text/plain": "event                  onset    wakeup\nseries_id    night                    \n038441c925bb 1        4992.0   10932.0\n             2       20244.0   27492.0\n             3       39996.0   44400.0\n             4       57240.0   62856.0\n             6       91296.0   97860.0\n...                      ...       ...\nfe90110788d2 30     505116.0  511284.0\n             31     522852.0  529104.0\n             32     538956.0  547152.0\n             33     556560.0  560604.0\n             34     574620.0  581604.0\n\n[4790 rows x 2 columns]",
      "text/html": "<div>\n<style scoped>\n    .dataframe tbody tr th:only-of-type {\n        vertical-align: middle;\n    }\n\n    .dataframe tbody tr th {\n        vertical-align: top;\n    }\n\n    .dataframe thead th {\n        text-align: right;\n    }\n</style>\n<table border=\"1\" class=\"dataframe\">\n  <thead>\n    <tr style=\"text-align: right;\">\n      <th></th>\n      <th>event</th>\n      <th>onset</th>\n      <th>wakeup</th>\n    </tr>\n    <tr>\n      <th>series_id</th>\n      <th>night</th>\n      <th></th>\n      <th></th>\n    </tr>\n  </thead>\n  <tbody>\n    <tr>\n      <th rowspan=\"5\" valign=\"top\">038441c925bb</th>\n      <th>1</th>\n      <td>4992.0</td>\n      <td>10932.0</td>\n    </tr>\n    <tr>\n      <th>2</th>\n      <td>20244.0</td>\n      <td>27492.0</td>\n    </tr>\n    <tr>\n      <th>3</th>\n      <td>39996.0</td>\n      <td>44400.0</td>\n    </tr>\n    <tr>\n      <th>4</th>\n      <td>57240.0</td>\n      <td>62856.0</td>\n    </tr>\n    <tr>\n      <th>6</th>\n      <td>91296.0</td>\n      <td>97860.0</td>\n    </tr>\n    <tr>\n      <th>...</th>\n      <th>...</th>\n      <td>...</td>\n      <td>...</td>\n    </tr>\n    <tr>\n      <th rowspan=\"5\" valign=\"top\">fe90110788d2</th>\n      <th>30</th>\n      <td>505116.0</td>\n      <td>511284.0</td>\n    </tr>\n    <tr>\n      <th>31</th>\n      <td>522852.0</td>\n      <td>529104.0</td>\n    </tr>\n    <tr>\n      <th>32</th>\n      <td>538956.0</td>\n      <td>547152.0</td>\n    </tr>\n    <tr>\n      <th>33</th>\n      <td>556560.0</td>\n      <td>560604.0</td>\n    </tr>\n    <tr>\n      <th>34</th>\n      <td>574620.0</td>\n      <td>581604.0</td>\n    </tr>\n  </tbody>\n</table>\n<p>4790 rows × 2 columns</p>\n</div>"
     },
     "execution_count": 9,
     "metadata": {},
     "output_type": "execute_result"
    }
   ],
   "source": [
    "events_df = pd.read_csv(PATH_DATA_RAW / \"train_events.csv\")\n",
    "events_df = events_df.pivot(columns=\"event\", index=[\"series_id\", \"night\"], values=\"step\").dropna()\n",
    "events_df"
   ],
   "metadata": {
    "collapsed": false,
    "ExecuteTime": {
     "end_time": "2023-11-25T20:30:53.267869368Z",
     "start_time": "2023-11-25T20:30:53.228761590Z"
    }
   },
   "id": "2eb327bef01dfd2a"
  },
  {
   "cell_type": "code",
   "execution_count": 10,
   "outputs": [
    {
     "data": {
      "text/plain": "{'seed': 42, 'exp_name': 'dummy', 'run_name': 'dummy', 'batch_size': 32, 'num_workers': 12, 'duration': 5760, 'downsample_rate': 2, 'upsample_rate': 1, 'n_chunks_visualize': 20, 'trainer': {'epochs': 50, 'accelerator': 'auto', 'use_amp': True, 'debug': False, 'gradient_clip_val': 1.0, 'accumulate_grad_batches': 1, 'monitor': 'val_loss', 'monitor_mode': 'min', 'check_val_every_n_epoch': 1}, 'aug': {'mixup_prob': 0.0, 'mixup_alpha': 0.4, 'cutmix_prob': 0.0, 'cutmix_alpha': 0.4}, 'pp': {'score_th': 0.1, 'distance': 360}, 'labels': ['awake', 'event_onset', 'event_wakeup'], 'target_labels_idx': [1, 2], 'features': ['anglez', 'enmo', 'hour_sin', 'hour_cos'], 'optimizer': {'lr': 0.0005}, 'scheduler': {'num_warmup_steps': 0}, 'dir': {'data_dir': '/beegfs/ws/0/s4610340-sleep_states/kaggle-detect_sleep_states/data/raw', 'processed_dir': '/beegfs/ws/0/s4610340-sleep_states/kaggle-detect_sleep_states/data/processed', 'output_dir': '/beegfs/ws/0/s4610340-sleep_states/kaggle-detect_sleep_states/outputs', 'model_dir': '/beegfs/ws/0/s4610340-sleep_states/kaggle-detect_sleep_states/models', 'sub_dir': './', 'mlflow_store_dir': '/beegfs/ws/0/s4610340-sleep_states/kaggle-detect_sleep_states/ml-runs'}, 'dataset': {'name': 'seg', 'batch_size': '${batch_size}', 'num_workers': '${num_workers}', 'radius': 10, 'sigma': 10, 'bg_sampling_rate': 0.5}, 'model': {'name': 'Spec2DCNN', 'params': {'encoder_name': 'resnet34', 'encoder_weights': 'imagenet'}}, 'feature_extractor': {'name': 'CNNSpectrogram', 'params': {'base_filters': 64, 'kernel_sizes': [32, 16, '${downsample_rate}'], 'stride': '${downsample_rate}', 'sigmoid': True, 'reinit': True}}, 'decoder': {'name': 'UNet1DDecoder', 'params': {'bilinear': False, 'se': False, 'res': False, 'scale_factor': 2, 'dropout': 0.2}}, 'split': {'train_series_ids': ['038441c925bb', '0402a003dae9', '04f547b8017d', '05e1944c3818', '062cae666e2a', '062dbd4c95e6', '08db4255286f', '0a96f4993bd7', '0ce74d6d2106', '0d0ad1e77851', '0dee4fda51c3', '0ec9fc461819', '0ef7d94fde99', '0f572d690310', '0f9e60a8e56d', '10469f6765bf', '1087d7b0ff2e', '10f8bc1f7b07', '137771d19ca2', '137b99e936ab', '13b4d6a01d27', '148471991ffb', '154fe824ed87', '16fe2798ed0f', '1716cd4163b2', '188d4b7cd28b', '18a0ca03431d', '18b61dd5aae8', '1955d568d987', '1b92be89db4c', '1c7c0bad1263', '1d4569cbac0f', '1e6717d93c1d', '1f96b9668bdf', '207eded97727', '25e2b3dd9c3b', '2654a87be968', '27f09a6a858f', '292a75c0b94e', '29d3469bd15d', '2b0a1fa8eba8', '2b8d87addea9', '2e9ced2c7976', '2f7504d0f426', '2fc653ca75c7', '31011ade7c0a', '3318a0e3ed6f', '3452b878e596', '349c5562ee2c', '361366da569e', '3664fe9233f9', '3a9a9dc2cbd9', '3aceb17ef7bd', '3be1545083b7', '3be2f86c3e45', '3c336d6ba566', '3d53bfea61d6', '3df0da2e5966', '405df1b41f9f', '40dce6018935', '416354edd92a', '449766346eb1', '44a41bba1ee7', '44d8c02b369e', '4743bdde25df', '483d6545417f', '4a31811f3558', '4ab54be1a403', '4b45c36f8f5a', '519ae2d858b0', '51b23d177971', '51c49c540b4e', '51fdcc8d9fe7', '559ffb7c166a', '55a47ff9dc8a', '5aad18e7ce64', '5acc9d63b5fd', '5c088d7e916c', '5c55a5e717d6', '5f40907ec171', '5f76965e10cf', '5ffd5e1e81ac', '60d31b0bec3b', '60e51cad2ffb', '612aa8ba44e2', '655f19eabf1e', '67f5fc60e494', '694faf956ebf', '6bf95a3cf91c', '6ca4f4fca6a2', '6d6b9d22d48a', '6ee4ade1f2bd', '702bb5387b1e', '703b5efa9bc1', '72ba4a8afff4', '72bbd1ac3edf', '72d2234e84e4', '73fb772e50fb', '7476c0bd18d2', '7504165f497d', '752900afe3a6', '77ca4db83644', '7822ee8fe3ec', '78569a801a38', '785c9ca4eff7', '7df249527c63', '7fd4284b7ee8', '804594bb1f06', '808652a666c6', '83fa182bec3a', '844f54dcab89', '854206f602d0', '87a6cbb7c4ed', '8877a6586606', '8a22387617c3', '8a306e0890c0', '8b159a98f485', '8b8b9e29171c', '8e32047cbc1f', '90eac42a9ec9', '91127c2b0e60', '91cb6c98201f', '9277be28a1cf', '927dd0c35dfd', '939932f1822d', '971207c6a525', '99237ce045e4', '9a340507e36a', '9aed9ee12ae2', '9c91c546e095', '9ee455e4770d', 'a167532acca2', 'a261bc4b7470', 'a2b0a64ec9cf', 'a3e59c2ce3f6', 'a4e48102f402', 'a596ad0b82aa', 'a681f9b04b21', 'a81f4472c637', 'a9a2f7fac455', 'a9e5f5314bcb', 'aa81faa78747', 'ad425f3ee76d', 'aed3850f65f0', 'af91d9a50547', 'b364205aba43', 'b4b75225b224', 'b7188813d58a', 'b737f8c78ec5', 'b750c8c1556c', 'b84960841a75', 'ba8083a2c3b8', 'bf00506437aa', 'bfa54bd26187', 'bfe41e96d12f', 'c107b5789660', 'c289c8a823e0', 'c3072a759efb', 'c38707ef76df', 'c535634d7dcd', 'c5365a55ebb7', 'c5d08fc3e040', 'c6788e579967', 'c68260cc9e8f', 'c75b4b207bea', 'c7b1283bb7eb', 'c7b2155a4a47', 'c7d693f24684', 'c8053490cec2', 'ca730dbf521d', 'ca732a3c37f7', 'cca14d1966c1', 'ce85771a714c', 'ce9164297046', 'cf13ed7e457a', 'cfeb11428dd7', 'd043c0ca71cd', 'd0f613c700f7', 'd150801f3145', 'd25e479ecbb7', 'd2d6b9af0553', 'd2fef7e4defd', 'd3dddd3c0e00', 'd515236bdeec', 'd5be621fd9aa', 'd5e47b94477e', 'd93b0c7de16b', 'd9e887091a5c', 'dacc6d652e35', 'db5e0ee1c0ab', 'db75092f0530', 'dc80ca623d71', 'de6fedfb6139', 'df33ae359fb5', 'dfc3ccebfdc9', 'dff367373725', 'e0686434d029', 'e0d7b0dcf9f3', 'e11b9d69f856', 'e1f2a4f991cb', 'e1f5abb82285', 'e30cb792a2bc', 'e34b496b84ce', 'e4500e7e19e1', 'e586cbfa7762', 'e69aff66e0cb', 'e6ddbaaf0639', 'e867b5133665', 'e8d0a37c3eba', 'ea0770830757', 'ebd76e93ec7d', 'ece2561f07e9', 'efbfc4526d58', 'f2c2436cf7b7', 'f6d2cc003183', 'f88e18cb4100', 'f8a8da8bdd00', 'f981a0805fd0', 'fa149c3c4bde', 'fb223ed2278c', 'fcca183903b7'], 'valid_series_ids': ['03d92c9f6f8a', '0cd1e3d0ed95', '0cfc06c129cc', '12d01911d509', '1319a1935f48', '1762ab70ec76', '280e08693c6d', '29c75c018220', '2cd2340ca14d', '2fbbee1a38e3', '33ceeba8918a', '35826366dfc7', '3665c86afaf5', '390b487231ce', '4ac356361be9', '4feda0596965', '55b7f5c99930', '599ca4ed791b', '5e816f11f5c3', '5f94bb3e1bed', '601559e1777d', '653622ac8363', '6a4cd123bd69', '76237b9406d5', '8898e6db816d', '89bd631d1769', '89c7daa72eee', '8becc76ea607', '8f6f15b9f598', '8fb18e36697d', '99b829cbad2d', '9b9cd7b7af8c', '9ddd40f2cb36', '9fbdeffbe2ba', 'a88088855de5', 'b1831c4979da', 'b7fc34995d0f', 'bb5612895813', 'bccf2f2819f8', 'bdfce9ce62b9', 'c908a0ad3e31', 'ccdee561ee5d', 'd8de352c2657', 'def21f50dd3c', 'e2a849d283c0', 'e2b60820c325', 'ebb6fae8ed43', 'ee4e0e3afd3d', 'eec197a4bdca', 'eef041dd50aa', 'f0482490923c', 'f564985ab692', 'f56824b503a0', 'f7eb179216c2', 'fbf33b1a2c10', 'fe90110788d2']}, 'loss': {'name': 'BCE', 'params': {'pos_weight': [1.0, 0.3, 0.3]}}}"
     },
     "execution_count": 10,
     "metadata": {},
     "output_type": "execute_result"
    }
   ],
   "source": [
    "import hydra\n",
    "import detect_sleep_states.config\n",
    "\n",
    "with hydra.initialize_config_dir(version_base=None,\n",
    "                                 config_dir=\"/beegfs/ws/0/s4610340-sleep_states/kaggle-detect_sleep_states/config\"):\n",
    "    cfg: detect_sleep_states.config.TrainConfig = hydra.compose(config_name=\"train\")\n",
    "\n",
    "cfg"
   ],
   "metadata": {
    "collapsed": false,
    "ExecuteTime": {
     "end_time": "2023-11-25T20:32:29.241058514Z",
     "start_time": "2023-11-25T20:32:28.540173681Z"
    }
   },
   "id": "e706c6cbc2637d2e"
  },
  {
   "cell_type": "code",
   "execution_count": 35,
   "outputs": [
    {
     "name": "stderr",
     "output_type": "stream",
     "text": [
      "100%|██████████| 221/221 [00:06<00:00, 31.73it/s]\n"
     ]
    },
    {
     "data": {
      "text/plain": "     total_count  asleep_count  awake_count  onset_count  wakeup_count  nulls\n0         391320         73665       317625           15            15      0\n1         639000         41284       597700            8             8      0\n2         778680         96874       681778           14            14      0\n3         606240        199531       406651           29            29      0\n4         759240        159607       599575           29            29      0\n..           ...           ...          ...          ...           ...    ...\n216       376380        158990       217346           22            22      0\n217       405900        123473       282389           19            19      0\n218       617400        181846       435502           26            26      0\n219       354420        118722       235662           18            18      0\n220       379980        130118       249818           22            22      0\n\n[221 rows x 6 columns]",
      "text/html": "<div>\n<style scoped>\n    .dataframe tbody tr th:only-of-type {\n        vertical-align: middle;\n    }\n\n    .dataframe tbody tr th {\n        vertical-align: top;\n    }\n\n    .dataframe thead th {\n        text-align: right;\n    }\n</style>\n<table border=\"1\" class=\"dataframe\">\n  <thead>\n    <tr style=\"text-align: right;\">\n      <th></th>\n      <th>total_count</th>\n      <th>asleep_count</th>\n      <th>awake_count</th>\n      <th>onset_count</th>\n      <th>wakeup_count</th>\n      <th>nulls</th>\n    </tr>\n  </thead>\n  <tbody>\n    <tr>\n      <th>0</th>\n      <td>391320</td>\n      <td>73665</td>\n      <td>317625</td>\n      <td>15</td>\n      <td>15</td>\n      <td>0</td>\n    </tr>\n    <tr>\n      <th>1</th>\n      <td>639000</td>\n      <td>41284</td>\n      <td>597700</td>\n      <td>8</td>\n      <td>8</td>\n      <td>0</td>\n    </tr>\n    <tr>\n      <th>2</th>\n      <td>778680</td>\n      <td>96874</td>\n      <td>681778</td>\n      <td>14</td>\n      <td>14</td>\n      <td>0</td>\n    </tr>\n    <tr>\n      <th>3</th>\n      <td>606240</td>\n      <td>199531</td>\n      <td>406651</td>\n      <td>29</td>\n      <td>29</td>\n      <td>0</td>\n    </tr>\n    <tr>\n      <th>4</th>\n      <td>759240</td>\n      <td>159607</td>\n      <td>599575</td>\n      <td>29</td>\n      <td>29</td>\n      <td>0</td>\n    </tr>\n    <tr>\n      <th>...</th>\n      <td>...</td>\n      <td>...</td>\n      <td>...</td>\n      <td>...</td>\n      <td>...</td>\n      <td>...</td>\n    </tr>\n    <tr>\n      <th>216</th>\n      <td>376380</td>\n      <td>158990</td>\n      <td>217346</td>\n      <td>22</td>\n      <td>22</td>\n      <td>0</td>\n    </tr>\n    <tr>\n      <th>217</th>\n      <td>405900</td>\n      <td>123473</td>\n      <td>282389</td>\n      <td>19</td>\n      <td>19</td>\n      <td>0</td>\n    </tr>\n    <tr>\n      <th>218</th>\n      <td>617400</td>\n      <td>181846</td>\n      <td>435502</td>\n      <td>26</td>\n      <td>26</td>\n      <td>0</td>\n    </tr>\n    <tr>\n      <th>219</th>\n      <td>354420</td>\n      <td>118722</td>\n      <td>235662</td>\n      <td>18</td>\n      <td>18</td>\n      <td>0</td>\n    </tr>\n    <tr>\n      <th>220</th>\n      <td>379980</td>\n      <td>130118</td>\n      <td>249818</td>\n      <td>22</td>\n      <td>22</td>\n      <td>0</td>\n    </tr>\n  </tbody>\n</table>\n<p>221 rows × 6 columns</p>\n</div>"
     },
     "execution_count": 35,
     "metadata": {},
     "output_type": "execute_result"
    }
   ],
   "source": [
    "from tqdm import tqdm\n",
    "\n",
    "series_lf = pl.scan_parquet(\n",
    "    PATH_DATA_RAW / f\"train_series.parquet\",\n",
    ")\n",
    "\n",
    "# preprocess\n",
    "series_df = (\n",
    "    series_lf\n",
    "    .with_columns(\n",
    "        pl.col(\"timestamp\").str.to_datetime(\"%Y-%m-%dT%H:%M:%S%z\"),\n",
    "    )\n",
    "    .filter(\n",
    "        pl.col(\"series_id\").is_in(cfg.split.train_series_ids)\n",
    "    )\n",
    "    .select(\n",
    "        [\n",
    "            pl.col(\"series_id\"),\n",
    "            pl.col(\"timestamp\"),\n",
    "            pl.col(\"step\"),\n",
    "            pl.col(\"anglez\"),\n",
    "            pl.col(\"enmo\"),\n",
    "        ]\n",
    "    )\n",
    "    .collect(streaming=True)\n",
    "    .sort(by=[\"series_id\", \"timestamp\"])\n",
    ")\n",
    "n_unique = series_df.get_column(\"series_id\").n_unique()\n",
    "\n",
    "counts = []\n",
    "\n",
    "this_series_df: pl.DataFrame\n",
    "for series_id, this_series_df in tqdm(series_df.group_by(\"series_id\"), total=n_unique):\n",
    "    series_counts = {\n",
    "        \"total_count\": this_series_df.shape[0],\n",
    "        \"asleep_count\": 0,\n",
    "        \"awake_count\": 0,\n",
    "        \"onset_count\": 0,\n",
    "        \"wakeup_count\": 0\n",
    "    }\n",
    "\n",
    "    if series_id in events_df.index.get_level_values(\"series_id\"):\n",
    "\n",
    "        series_events = events_df.loc[series_id]\n",
    "\n",
    "        series_counts[\"onset_count\"] = series_events.shape[0]\n",
    "        series_counts[\"wakeup_count\"] = series_events.shape[0]\n",
    "\n",
    "        for night, night_series in series_events.iterrows():\n",
    "            series_counts[\"asleep_count\"] += this_series_df.filter([\n",
    "                pl.col(\"step\").is_between(night_series[\"onset\"], night_series[\"wakeup\"], closed=\"none\")\n",
    "            ]).shape[0]\n",
    "\n",
    "    series_counts[\"nulls\"] = this_series_df.null_count().sum_horizontal().sum()\n",
    "\n",
    "    series_counts[\"awake_count\"] += (\n",
    "                this_series_df.shape[0] - series_counts[\"asleep_count\"] - series_counts[\"onset_count\"] - series_counts[\n",
    "            \"wakeup_count\"])\n",
    "\n",
    "    counts.append(series_counts)\n",
    "\n",
    "df_counts = pd.DataFrame(counts)\n",
    "df_counts\n"
   ],
   "metadata": {
    "collapsed": false,
    "ExecuteTime": {
     "end_time": "2023-11-25T22:07:34.938378781Z",
     "start_time": "2023-11-25T22:07:19.257889940Z"
    }
   },
   "id": "9ee3e90730f1c3a7"
  },
  {
   "cell_type": "code",
   "execution_count": 36,
   "outputs": [
    {
     "data": {
      "text/plain": "total_count     100363860\nasleep_count     23841204\nawake_count      76515024\nonset_count          3816\nwakeup_count         3816\nnulls                   0\ndtype: int64"
     },
     "execution_count": 36,
     "metadata": {},
     "output_type": "execute_result"
    }
   ],
   "source": [
    "total_counts = df_counts.sum(axis=0)\n",
    "total_counts"
   ],
   "metadata": {
    "collapsed": false,
    "ExecuteTime": {
     "end_time": "2023-11-25T22:07:50.055691459Z",
     "start_time": "2023-11-25T22:07:50.028422470Z"
    }
   },
   "id": "d852020e36aa83c4"
  },
  {
   "cell_type": "code",
   "execution_count": 27,
   "outputs": [
    {
     "data": {
      "text/plain": "3.802310010944196e-05"
     },
     "execution_count": 27,
     "metadata": {},
     "output_type": "execute_result"
    }
   ],
   "source": [
    "total_counts[\"onset_count\"] / (\n",
    "            total_counts[\"wakeup_count\"] + total_counts[\"awake_count\"] + total_counts[\"asleep_count\"])"
   ],
   "metadata": {
    "collapsed": false,
    "ExecuteTime": {
     "end_time": "2023-11-25T21:02:37.100550240Z",
     "start_time": "2023-11-25T21:02:37.094811803Z"
    }
   },
   "id": "7d460380a1d9dc3"
  },
  {
   "cell_type": "code",
   "execution_count": 28,
   "outputs": [
    {
     "data": {
      "text/plain": "0.1557903811407389"
     },
     "execution_count": 28,
     "metadata": {},
     "output_type": "execute_result"
    }
   ],
   "source": [
    "total_counts[\"asleep_count\"] / (\n",
    "            total_counts[\"wakeup_count\"] + total_counts[\"awake_count\"] + total_counts[\"awake_count\"])"
   ],
   "metadata": {
    "collapsed": false,
    "ExecuteTime": {
     "end_time": "2023-11-25T21:03:25.053756411Z",
     "start_time": "2023-11-25T21:03:24.986445588Z"
    }
   },
   "id": "f323604fe8e176da"
  },
  {
   "cell_type": "code",
   "execution_count": 29,
   "outputs": [
    {
     "data": {
      "text/plain": "0.7624052456573256"
     },
     "execution_count": 29,
     "metadata": {},
     "output_type": "execute_result"
    }
   ],
   "source": [
    "total_counts[\"awake_count\"] / (\n",
    "            total_counts[\"wakeup_count\"] + total_counts[\"awake_count\"] + total_counts[\"asleep_count\"])"
   ],
   "metadata": {
    "collapsed": false,
    "ExecuteTime": {
     "end_time": "2023-11-25T21:03:48.870319672Z",
     "start_time": "2023-11-25T21:03:48.839888247Z"
    }
   },
   "id": "7a157f0847e5cf62"
  },
  {
   "cell_type": "code",
   "execution_count": 30,
   "outputs": [
    {
     "data": {
      "text/plain": "26315.78947368421"
     },
     "execution_count": 30,
     "metadata": {},
     "output_type": "execute_result"
    }
   ],
   "source": [
    "1 / (3.8e-05)"
   ],
   "metadata": {
    "collapsed": false,
    "ExecuteTime": {
     "end_time": "2023-11-25T21:05:50.156277277Z",
     "start_time": "2023-11-25T21:05:50.080274532Z"
    }
   },
   "id": "34e1790d67db6a13"
  },
  {
   "cell_type": "code",
   "execution_count": 54,
   "outputs": [
    {
     "name": "stderr",
     "output_type": "stream",
     "text": [
      "  0%|          | 0/277 [00:03<?, ?it/s]"
     ]
    },
    {
     "name": "stdout",
     "output_type": "stream",
     "text": [
      "shape: (622_366, 5)\n",
      "┌──────────────┬─────────────────────────┬────────┬──────────┬────────┐\n",
      "│ series_id    ┆ timestamp               ┆ step   ┆ anglez   ┆ enmo   │\n",
      "│ ---          ┆ ---                     ┆ ---    ┆ ---      ┆ ---    │\n",
      "│ str          ┆ datetime[μs, UTC]       ┆ u32    ┆ f32      ┆ f32    │\n",
      "╞══════════════╪═════════════════════════╪════════╪══════════╪════════╡\n",
      "│ 55b7f5c99930 ┆ 2018-11-13 16:45:00 UTC ┆ 0      ┆ -1.9646  ┆ 0.0544 │\n",
      "│ 55b7f5c99930 ┆ 2018-11-13 16:45:05 UTC ┆ 1      ┆ -3.4437  ┆ 0.063  │\n",
      "│ 55b7f5c99930 ┆ 2018-11-13 16:45:10 UTC ┆ 2      ┆ -5.4503  ┆ 0.0732 │\n",
      "│ 55b7f5c99930 ┆ 2018-11-13 16:45:15 UTC ┆ 3      ┆ -12.8095 ┆ 0.054  │\n",
      "│ …            ┆ …                       ┆ …      ┆ …        ┆ …      │\n",
      "│ 55b7f5c99930 ┆ 2018-12-19 14:14:40 UTC ┆ 620276 ┆ -2.702   ┆ 0.0404 │\n",
      "│ 55b7f5c99930 ┆ 2018-12-19 14:14:45 UTC ┆ 620277 ┆ -8.1532  ┆ 0.0444 │\n",
      "│ 55b7f5c99930 ┆ 2018-12-19 14:14:50 UTC ┆ 620278 ┆ -3.346   ┆ 0.0748 │\n",
      "│ 55b7f5c99930 ┆ 2018-12-19 14:14:55 UTC ┆ 620279 ┆ -0.8892  ┆ 0.0616 │\n",
      "└──────────────┴─────────────────────────┴────────┴──────────┴────────┘\n"
     ]
    },
    {
     "name": "stderr",
     "output_type": "stream",
     "text": [
      "\n"
     ]
    }
   ],
   "source": [
    "import numpy as np\n",
    "from pandas.api.indexers import FixedForwardWindowIndexer\n",
    "\n",
    "# preprocess\n",
    "\n",
    "series_df = (\n",
    "    series_lf\n",
    "    .with_columns(\n",
    "        pl.col(\"timestamp\").str.to_datetime(\"%Y-%m-%dT%H:%M:%S%z\"),\n",
    "    )\n",
    "    .select(\n",
    "        [\n",
    "            pl.col(\"series_id\"),\n",
    "            pl.col(\"timestamp\"),\n",
    "            pl.col(\"step\"),\n",
    "            pl.col(\"anglez\"),\n",
    "            pl.col(\"enmo\"),\n",
    "        ]\n",
    "    )\n",
    "    .collect(streaming=True)\n",
    "    .sort(by=[\"series_id\", \"timestamp\"])\n",
    ")\n",
    "\n",
    "n_unique = series_df.get_column(\"series_id\").n_unique()\n",
    "\n",
    "df_train_events = pl.from_pandas(\n",
    "    pd.read_csv(PATH_DATA_RAW / \"train_events.csv\")\n",
    "    .dropna()\n",
    "    .astype({\n",
    "        \"step\": np.uint32\n",
    "    })\n",
    ").with_columns(\n",
    "    pl.col(\"event\").map_dict({\"onset\": 1, \"wakeup\": 0}).alias(\"awake\")\n",
    ")\n",
    "\n",
    "window_size = 8640\n",
    "th = 50\n",
    "\n",
    "for series_id, this_series_df in tqdm(series_df.group_by(\"series_id\"), total=n_unique):\n",
    "    govno = this_series_df.get_column(\"anglez\").to_pandas()\n",
    "    govno_rolling = govno.rolling(FixedForwardWindowIndexer(window_size=window_size),\n",
    "                                  min_periods=window_size).max().rename(\"anglez_forward_max\")\n",
    "\n",
    "    this_series_df = (\n",
    "        this_series_df\n",
    "        .with_columns(\n",
    "            pl.col(\"anglez\").rolling_max(window_size=window_size, min_periods=window_size).alias(\"anglez_backward_max\"),\n",
    "            pl.from_pandas(govno_rolling)\n",
    "        )\n",
    "        .join(df_train_events.select([pl.col(\"step\", \"awake\")]), on=\"step\", how=\"left\")\n",
    "        .with_columns(\n",
    "            pl.col(\"awake\").fill_null(strategy=\"backward\"),\n",
    "        )\n",
    "    )\n",
    "    this_series_df = (\n",
    "        this_series_df\n",
    "        .with_columns(\n",
    "            pl\n",
    "            .when((pl.col(\"anglez_backward_max\") < th) | (pl.col(\"anglez_forward_max\") < th))\n",
    "            .then(pl.col(\"awake\"))\n",
    "            .alias(\"awake\")\n",
    "            .fill_null(1)\n",
    "        )\n",
    "        .select(\n",
    "            \"series_id\",\n",
    "            \"timestamp\",\n",
    "            \"step\",\n",
    "            \"anglez\",\n",
    "            \"enmo\",\n",
    "            pl.col(\"awake\") != 2,\n",
    "        )\n",
    "        .drop(\n",
    "            \"awake\"\n",
    "        )\n",
    "    )\n",
    "\n",
    "    print(this_series_df)\n",
    "\n",
    "    break"
   ],
   "metadata": {
    "collapsed": false,
    "ExecuteTime": {
     "end_time": "2023-11-25T23:36:49.723544299Z",
     "start_time": "2023-11-25T23:36:35.122787274Z"
    }
   },
   "id": "af2ccecda69c7646"
  },
  {
   "cell_type": "code",
   "execution_count": null,
   "outputs": [],
   "source": [],
   "metadata": {
    "collapsed": false
   },
   "id": "c7a07c5bab48feaf"
  }
 ],
 "metadata": {
  "kernelspec": {
   "display_name": "Python 3",
   "language": "python",
   "name": "python3"
  },
  "language_info": {
   "codemirror_mode": {
    "name": "ipython",
    "version": 2
   },
   "file_extension": ".py",
   "mimetype": "text/x-python",
   "name": "python",
   "nbconvert_exporter": "python",
   "pygments_lexer": "ipython2",
   "version": "2.7.6"
  }
 },
 "nbformat": 4,
 "nbformat_minor": 5
}
